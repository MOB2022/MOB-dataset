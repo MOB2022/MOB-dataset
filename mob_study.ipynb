{
 "cells": [
  {
   "cell_type": "markdown",
   "metadata": {},
   "source": [
    "# Dataset Collection and Analysis for MOBs"
   ]
  },
  {
   "cell_type": "markdown",
   "metadata": {},
   "source": [
    "## 1. Issue Selecion\n",
    "\n",
    "We use GitHub API to search the issues."
   ]
  },
  {
   "cell_type": "code",
   "execution_count": 1,
   "metadata": {},
   "outputs": [],
   "source": [
    "! pip install -q PyGithub\n",
    "\n",
    "from github import Github\n",
    "\n",
    "YOUR_GITHUB_TOKEN = \"\"\n",
    "if len(YOUR_GITHUB_TOKEN) == 0:\n",
    "    raise ValueError(\"Please set your GitHub token in the script\")\n",
    "\n",
    "g = Github(YOUR_GITHUB_TOKEN)"
   ]
  },
  {
   "cell_type": "markdown",
   "metadata": {},
   "source": [
    "The query rules are described in Section 3.2:"
   ]
  },
  {
   "cell_type": "markdown",
   "metadata": {},
   "source": []
  },
  {
   "cell_type": "code",
   "execution_count": 2,
   "metadata": {},
   "outputs": [],
   "source": [
    "queries = [\n",
    "    (\"pytorch/pytorch\", \"label:\\\"module: pruning\\\" label:triaged is:issue\"),\n",
    "    (\"pytorch/pytorch\", \"label:\\\"oncall: quantization\\\" label:triaged is:issue\"),\n",
    "    (\"tensorflow/tensorflow\", \"label:ModelOptimizationToolkit label:type:bug is:issue\"),\n",
    "    (\"tensorflow/model-optimization\", \"label:bug is:issue\"),\n",
    "]"
   ]
  },
  {
   "cell_type": "markdown",
   "metadata": {},
   "source": [
    "### Search and save raw data."
   ]
  },
  {
   "cell_type": "code",
   "execution_count": 56,
   "metadata": {},
   "outputs": [
    {
     "name": "stdout",
     "output_type": "stream",
     "text": [
      "15\n",
      "321\n",
      "32\n",
      "127\n"
     ]
    }
   ],
   "source": [
    "import json\n",
    "full_data = []\n",
    "\n",
    "for q in queries:\n",
    "    issues = g.search_issues(query=f'repo:{q[0]} {q[1]}')\n",
    "    \n",
    "    for issue in issues:\n",
    "        full_data.append(issue.raw_data)\n",
    "    print(issues.totalCount)"
   ]
  },
  {
   "cell_type": "code",
   "execution_count": 59,
   "metadata": {},
   "outputs": [],
   "source": [
    "with open('full_data_new.json', 'w') as f:\n",
    "    json.dump(full_data, f)"
   ]
  },
  {
   "cell_type": "code",
   "execution_count": 29,
   "metadata": {},
   "outputs": [
    {
     "name": "stdout",
     "output_type": "stream",
     "text": [
      "393\n"
     ]
    }
   ],
   "source": [
    "valid_issues = []\n",
    "for issue in full_data:\n",
    "    if issue['comments'] == 0:\n",
    "        continue\n",
    "    body = issue['body']\n",
    "    if 'Feature\\r\\n' in body:\n",
    "        continue\n",
    "    if 'Motivation\\r\\n' in body:\n",
    "        continue\n",
    "    if 'Documentation\\r\\n' in body:\n",
    "        continue\n",
    "    if 'The feature, motivation and pitch\\r\\n' in body:\n",
    "        continue\n",
    "    valid_issues.append(issue)\n",
    "\n",
    "print(len(valid_issues))\n"
   ]
  },
  {
   "cell_type": "code",
   "execution_count": null,
   "metadata": {},
   "outputs": [],
   "source": [
    "import csv\n",
    "import json\n",
    "import re\n",
    "\n",
    "with open('full_data_new.json', 'r') as f:\n",
    "    full_data = json.load(f)\n",
    "\n",
    "print(len(full_data))\n",
    "\n",
    "valid_issues = []\n",
    "for issue in full_data:\n",
    "    if issue['comments'] == 0:\n",
    "        continue\n",
    "    body = issue['body']\n",
    "    if 'Feature\\r\\n' in body:\n",
    "        continue\n",
    "    if 'Motivation\\r\\n' in body:\n",
    "        continue\n",
    "    if 'Documentation\\r\\n' in body:\n",
    "        continue\n",
    "    if 'The feature, motivation and pitch\\r\\n' in body:\n",
    "        continue\n",
    "    title = issue['title']\n",
    "    if 'test_' in title:\n",
    "        continue\n",
    "    valid_issues.append(issue)\n",
    "\n",
    "print(len(valid_issues))\n",
    "\n",
    "no_code_issues = []\n",
    "for issue in valid_issues:\n",
    "    body = issue['body']\n",
    "    if '`' in body:\n",
    "        continue\n",
    "    if 'To Reproduce\\r\\n' in body:\n",
    "        continue\n",
    "    if 'https://' in body:\n",
    "        continue\n",
    "    if 'torch.' in body:\n",
    "        continue\n",
    "    if 'tensorflow.' in body:\n",
    "        continue\n",
    "    if len(re.findall(r'#\\d+', body)) > 0:\n",
    "        continue\n",
    "    no_code_issues.append(issue)\n",
    "    print(issue['html_url'])\n",
    "print(len(no_code_issues))"
   ]
  },
  {
   "cell_type": "code",
   "execution_count": null,
   "metadata": {},
   "outputs": [],
   "source": [
    "import re\n",
    "import requests\n",
    "\n",
    "ref_pattern = re.compile(r'#(\\d+)')\n",
    "client = requests.Session()\n",
    "client.headers[\"Authorization\"] = f\"token {YOUR_GITHUB_TOKEN}\"\n",
    "\n",
    "for issue in valid_issues:\n",
    "    r = client.get(issue['timeline_url'])\n",
    "    for event in r.json():\n",
    "        if event['event'] == 'cross-referenced':\n",
    "            source = event['source']\n",
    "            if source['type'] == 'issue':\n",
    "                if 'pull_request' in source['issue']:\n",
    "                    pr_url = source['issue']['pull_request']['url']\n",
    "                    pr = client.get(pr_url).json()\n",
    "                    if pr['merged_at'] is not None:\n",
    "                        print(issue['html_url'], pr['html_url'])\n",
    "                    for label in pr['labels']:\n",
    "                        if label['name'] == 'Merged':\n",
    "                            print(issue['html_url'], pr['html_url'])\n",
    "                            break\n"
   ]
  }
 ],
 "metadata": {
  "kernelspec": {
   "display_name": "Python 3.9.6 ('tf-bug')",
   "language": "python",
   "name": "python3"
  },
  "language_info": {
   "codemirror_mode": {
    "name": "ipython",
    "version": 3
   },
   "file_extension": ".py",
   "mimetype": "text/x-python",
   "name": "python",
   "nbconvert_exporter": "python",
   "pygments_lexer": "ipython3",
   "version": "3.9.6"
  },
  "orig_nbformat": 4,
  "vscode": {
   "interpreter": {
    "hash": "2d1e08a55a261c42a4c545ecfb104f22fde3343632fb39c59a00bec07e563f30"
   }
  }
 },
 "nbformat": 4,
 "nbformat_minor": 2
}
